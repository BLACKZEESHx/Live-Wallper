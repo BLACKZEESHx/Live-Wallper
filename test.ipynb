{
 "cells": [
  {
   "cell_type": "code",
   "execution_count": null,
   "metadata": {},
   "outputs": [],
   "source": [
    "import cv2\n",
    "\n",
    "def save_first_frame(video_path, output_path):\n",
    "    # Open the video file\n",
    "    cap = cv2.VideoCapture(video_path)\n",
    "\n",
    "    # Check if the video opened successfully\n",
    "    if not cap.isOpened():\n",
    "        print(\"Error: Could not open video.\")\n",
    "        return\n",
    "\n",
    "    # Read the first frame\n",
    "    ret, frame = cap.read()\n",
    "    x, y = 0, 0  # Top-left corner\n",
    "    width, height = 222, 333  # Width and height of the region\n",
    "\n",
    "    # Crop the image using array slicing\n",
    "    crop = frame[y:y + height, x:x + width]\n",
    "\n",
    "    # resizedFrame = cv2.resize(frame, (32, 22), interpolation=cv2.INTER_AREA)\n",
    "\n",
    "    # Check if the frame was read successfully\n",
    "    if not ret:\n",
    "        print(\"Error: Could not read frame.\")\n",
    "        return\n",
    "\n",
    "    # Save the first frame as an image\n",
    "    cv2.imwrite(output_path, crop)\n",
    "    print(\"First frame saved as\", output_path)\n",
    "\n",
    "    # Release the video capture object\n",
    "    cap.release()"
   ]
  }
 ],
 "metadata": {
  "kernelspec": {
   "display_name": "Python 3",
   "language": "python",
   "name": "python3"
  },
  "language_info": {
   "name": "python",
   "version": "3.12.1"
  }
 },
 "nbformat": 4,
 "nbformat_minor": 2
}
